{
 "cells": [
  {
   "cell_type": "markdown",
   "metadata": {},
   "source": [
    "**import**"
   ]
  },
  {
   "cell_type": "code",
   "execution_count": 6,
   "metadata": {},
   "outputs": [],
   "source": [
    "# Import Moudles and Packages\n",
    "import gc\n",
    "import os\n",
    "os.environ[\"CUDA_VISIBLE_DEVICES\"] = \"0\"\n",
    "\n",
    "import time\n",
    "import random\n",
    "from tqdm.auto import tqdm\n",
    "\n",
    "import warnings\n",
    "warnings.filterwarnings(\"ignore\")\n",
    "\n",
    "import numpy as np\n",
    "import matplotlib.pyplot as plt\n",
    "\n",
    "%matplotlib inline\n",
    "plt.rcParams[\"axes.grid\"]=False\n",
    "\n",
    "# Import pytorch modules\n",
    "import torch\n",
    "import torch.nn as nn\n",
    "from torch.utils import data\n",
    "\n",
    "from torch.optim.lr_scheduler import CosineAnnealingWarmRestarts\n",
    "from torch.cuda.amp import autocast, GradScaler\n",
    "from madgrad import MADGRAD\n",
    "\n",
    "import gc\n",
    "import torch\n",
    "\n",
    "from mpl_toolkits.axes_grid1 import ImageGrid\n",
    "\n",
    "gc.collect()\n",
    "torch.cuda.empty_cache()"
   ]
  },
  {
   "cell_type": "markdown",
   "metadata": {},
   "source": [
    "**config**"
   ]
  },
  {
   "cell_type": "code",
   "execution_count": 8,
   "metadata": {},
   "outputs": [],
   "source": [
    "from src.config import *\n",
    "from src.utils.fix_seed import *\n",
    "from src.utils.visualize import *\n",
    "from src.dataset.dataloader import *\n",
    "from src.metric.nme import NME\n",
    "from src.models.timm_swin import timm_Net\n",
    "\n",
    "seed_everything(SEED)"
   ]
  },
  {
   "cell_type": "markdown",
   "metadata": {},
   "source": [
    "**dataloader**"
   ]
  },
  {
   "cell_type": "code",
   "execution_count": 10,
   "metadata": {},
   "outputs": [],
   "source": [
    "train_loader, valid_loader = dataloader(batch_size=BATCH_SIZE, workers=WORKERS)"
   ]
  },
  {
   "cell_type": "markdown",
   "metadata": {},
   "source": [
    "**define validation function**"
   ]
  },
  {
   "cell_type": "code",
   "execution_count": 12,
   "metadata": {},
   "outputs": [
    {
     "data": {
      "text/plain": [
       "(7.387958120112543e-07, 0.3218706059881081)"
      ]
     },
     "execution_count": 12,
     "metadata": {},
     "output_type": "execute_result"
    }
   ],
   "source": [
    "MODEL.eval()\n",
    "@torch.no_grad()\n",
    "def validate(save = None):\n",
    "    cum_loss = 0.0\n",
    "    cum_nme = 0.0\n",
    "    for features, labels in valid_loader:\n",
    "        features = features.to(DEVICE)\n",
    "        labels = labels.to(DEVICE)\n",
    "        \n",
    "        with autocast(enabled=True):\n",
    "            outputs = MODEL(features)\n",
    "            loss = LOSS(outputs, labels)\n",
    "            nme = NME(outputs, labels)\n",
    "        \n",
    "        cum_loss += loss.item()\n",
    "        cum_nme += nme.item()\n",
    "        break\n",
    "    \n",
    "    visualize_batch(features[:4].cpu(), outputs[:4].cpu(), labels[:4].cpu(),\n",
    "                    shape = (2, 2), size = 16, title = 'Validation sample predictions', save = save)\n",
    "\n",
    "    return cum_loss/len(valid_loader), cum_nme/len(valid_loader)*100\n",
    "\n",
    "validate()"
   ]
  },
  {
   "cell_type": "code",
   "execution_count": 23,
   "metadata": {},
   "outputs": [
    {
     "data": {
      "application/vnd.jupyter.widget-view+json": {
       "model_id": "0d27f8e329fd46bf99c87f25edb08d95",
       "version_major": 2,
       "version_minor": 0
      },
      "text/plain": [
       "Training:   0%|          | 0/388 [00:00<?, ?it/s]"
      ]
     },
     "metadata": {},
     "output_type": "display_data"
    },
    {
     "ename": "NameError",
     "evalue": "name 'SAVE_IMAGE_PATH' is not defined",
     "output_type": "error",
     "traceback": [
      "\u001b[0;31m---------------------------------------------------------------------------\u001b[0m",
      "\u001b[0;31mNameError\u001b[0m                                 Traceback (most recent call last)",
      "\u001b[1;32m/home/ubuntu/workspace/FLD-scratch/homedo-k-face-all-add-metric.ipynb Cell 9'\u001b[0m in \u001b[0;36m<cell line: 6>\u001b[0;34m()\u001b[0m\n\u001b[1;32m     <a href='vscode-notebook-cell://ssh-remote%2B133.186.250.203/home/ubuntu/workspace/FLD-scratch/homedo-k-face-all-add-metric.ipynb#ch0000022vscode-remote?line=28'>29</a>\u001b[0m     OPTIMIZER\u001b[39m.\u001b[39mzero_grad()\n\u001b[1;32m     <a href='vscode-notebook-cell://ssh-remote%2B133.186.250.203/home/ubuntu/workspace/FLD-scratch/homedo-k-face-all-add-metric.ipynb#ch0000022vscode-remote?line=30'>31</a>\u001b[0m     cum_loss \u001b[39m+\u001b[39m\u001b[39m=\u001b[39m loss\u001b[39m.\u001b[39mitem()\n\u001b[0;32m---> <a href='vscode-notebook-cell://ssh-remote%2B133.186.250.203/home/ubuntu/workspace/FLD-scratch/homedo-k-face-all-add-metric.ipynb#ch0000022vscode-remote?line=32'>33</a>\u001b[0m val_loss, nme_value \u001b[39m=\u001b[39m validate(os\u001b[39m.\u001b[39mpath\u001b[39m.\u001b[39mjoin(\u001b[39mf\u001b[39m\u001b[39m'\u001b[39m\u001b[39m{\u001b[39;00mSAVE_IMAGE_PATH\u001b[39m}\u001b[39;00m\u001b[39m'\u001b[39m,\n\u001b[1;32m     <a href='vscode-notebook-cell://ssh-remote%2B133.186.250.203/home/ubuntu/workspace/FLD-scratch/homedo-k-face-all-add-metric.ipynb#ch0000022vscode-remote?line=33'>34</a>\u001b[0m                                  \u001b[39mf\u001b[39m\u001b[39m'\u001b[39m\u001b[39mepoch(\u001b[39m\u001b[39m{\u001b[39;00m\u001b[39mstr\u001b[39m(epoch \u001b[39m+\u001b[39m \u001b[39m1\u001b[39m)\u001b[39m.\u001b[39mzfill(\u001b[39mlen\u001b[39m(\u001b[39mstr\u001b[39m(EXP[\u001b[39m\"\u001b[39m\u001b[39mEPOCH\u001b[39m\u001b[39m\"\u001b[39m])))\u001b[39m}\u001b[39;00m\u001b[39m).jpg\u001b[39m\u001b[39m'\u001b[39m))\n\u001b[1;32m     <a href='vscode-notebook-cell://ssh-remote%2B133.186.250.203/home/ubuntu/workspace/FLD-scratch/homedo-k-face-all-add-metric.ipynb#ch0000022vscode-remote?line=35'>36</a>\u001b[0m \u001b[39mif\u001b[39;00m val_loss \u001b[39m<\u001b[39m best_loss:\n\u001b[1;32m     <a href='vscode-notebook-cell://ssh-remote%2B133.186.250.203/home/ubuntu/workspace/FLD-scratch/homedo-k-face-all-add-metric.ipynb#ch0000022vscode-remote?line=36'>37</a>\u001b[0m     best_loss \u001b[39m=\u001b[39m val_loss\n",
      "\u001b[0;31mNameError\u001b[0m: name 'SAVE_IMAGE_PATH' is not defined"
     ]
    }
   ],
   "source": [
    "batches = len(train_loader)\n",
    "best_loss = np.inf\n",
    "OPTIMIZER.zero_grad()\n",
    "\n",
    "start_time = time.time()\n",
    "for epoch in range(EXP[\"EPOCH\"]):\n",
    "    if epoch==1:\n",
    "        break\n",
    "    \n",
    "    cum_loss = 0.0\n",
    "    scaler = GradScaler() \n",
    "    \n",
    "    MODEL.train()\n",
    "    for idx, (features, labels) in enumerate(tqdm(train_loader, desc= 'Training')):\n",
    "        features = features.to(DEVICE)\n",
    "        labels = labels.to(DEVICE)\n",
    "\n",
    "        with autocast(enabled=True):\n",
    "            MODEL = MODEL.to(DEVICE)\n",
    "            \n",
    "            outputs = MODEL(features)\n",
    "        \n",
    "            loss = LOSS(outputs, labels)\n",
    "\n",
    "        scaler.scale(loss).backward()\n",
    "        scaler.step(OPTIMIZER)\n",
    "        scaler.update()\n",
    "                \n",
    "        OPTIMIZER.zero_grad()\n",
    "\n",
    "        cum_loss += loss.item()\n",
    "        \n",
    "    val_loss, nme_value = validate(os.path.join(f'{SAVE_IMAGE_PATH}',\n",
    "                                     f'epoch({str(epoch + 1).zfill(len(str(EXP[\"EPOCH\"])))}).jpg'))\n",
    "\n",
    "    if val_loss < best_loss:\n",
    "        best_loss = val_loss\n",
    "        print('Saving model....................')\n",
    "        torch.save(MODEL.state_dict(), SAVE_MODEL)\n",
    "\n",
    "    print(f'Epoch({epoch + 1}/{EXP[\"EPOCH\"]}) -> Training Loss: {cum_loss/batches:.8f} | Validation Loss: {val_loss:.8f} | Validation Rsme: {nme_value:.8f}')\n",
    "\n",
    "print('Training Complete')\n",
    "print(\"Total Elapsed Time : {} s\".format(time.time()-start_time))    "
   ]
  }
 ],
 "metadata": {
  "kernelspec": {
   "display_name": "Python 3.10.5 ('FG-FLD')",
   "language": "python",
   "name": "python3"
  },
  "language_info": {
   "codemirror_mode": {
    "name": "ipython",
    "version": 3
   },
   "file_extension": ".py",
   "mimetype": "text/x-python",
   "name": "python",
   "nbconvert_exporter": "python",
   "pygments_lexer": "ipython3",
   "version": "3.10.5"
  },
  "orig_nbformat": 4,
  "vscode": {
   "interpreter": {
    "hash": "d032bec24de8f26ea2ce5b1fbd1f6fe164433d96c079f6cfdc316b720645a670"
   }
  }
 },
 "nbformat": 4,
 "nbformat_minor": 2
}
