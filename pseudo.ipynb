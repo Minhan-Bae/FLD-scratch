{
 "cells": [
  {
   "cell_type": "code",
   "execution_count": null,
   "metadata": {},
   "outputs": [],
   "source": [
    "import warnings\n",
    "warnings.filterwarnings(\"ignore\")\n",
    "\n",
    "import os\n",
    "import cv2\n",
    "import random\n",
    "import numpy as np\n",
    "import pandas as pd\n",
    "\n",
    "import torch\n",
    "import torch.nn as nn\n",
    "import torchvision.transforms.functional as TF\n",
    "\n",
    "import timm\n",
    "from facenet_pytorch import MTCNN\n",
    "\n",
    "from PIL import Image\n",
    "import matplotlib.pyplot as plt\n",
    "%matplotlib inline\n",
    "\n",
    "device = 'cuda' if torch.cuda.is_available() else 'cpu'"
   ]
  },
  {
   "cell_type": "code",
   "execution_count": null,
   "metadata": {},
   "outputs": [],
   "source": [
    "from tqdm import tqdm\n",
    "path = \"/data/komedi/dataset/dataset_frontal_27pt\"\n",
    "file_list = os.listdir(path)\n",
    "\n",
    "name_list = []\n",
    "for idx, i in enumerate(tqdm(range(16800))):\n",
    "    name_list.append(os.path.join(path,file_list[i]))"
   ]
  },
  {
   "cell_type": "code",
   "execution_count": null,
   "metadata": {},
   "outputs": [],
   "source": [
    "csv_lists = []\n",
    "for i in range(len(name_list)):\n",
    "    csv_list = []\n",
    "    csv_list.append(os.path.splitext(file_list[i])[0])\n",
    "    csv_list.append(file_list[i].split('_')[1])                \n",
    "    csv_list.append(file_list[i].split('_')[2])\n",
    "    csv_list.append(name_list[i])\n",
    "    \n",
    "    csv_lists.append(csv_list)"
   ]
  },
  {
   "cell_type": "code",
   "execution_count": null,
   "metadata": {},
   "outputs": [],
   "source": [
    "df = pd.DataFrame(csv_lists)\n",
    "df.to_csv('test.csv', header=None, index=None)"
   ]
  },
  {
   "cell_type": "code",
   "execution_count": null,
   "metadata": {},
   "outputs": [],
   "source": [
    "# file_list[i].split('_')\n"
   ]
  },
  {
   "cell_type": "code",
   "execution_count": null,
   "metadata": {},
   "outputs": [],
   "source": [
    "file_list[i].split('_')"
   ]
  },
  {
   "cell_type": "code",
   "execution_count": null,
   "metadata": {},
   "outputs": [],
   "source": [
    "def timm_Net_54(model_name, pretrained=None, num_classes=54):\n",
    "    model = timm.create_model(\n",
    "        model_name=model_name,\n",
    "        pretrained=False,\n",
    "        num_classes=num_classes\n",
    "        )\n",
    "\n",
    "    if not pretrained==None:\n",
    "        model.eval()\n",
    "        model.load_state_dict(torch.load(pretrained, map_location = 'cpu'), strict=False)\n",
    "        \n",
    "    return model\n",
    "\n",
    "def mtcnn(image, margin=0): #PIL\n",
    "    numpy_image =  np.array(image)\n",
    "    mtcnn = MTCNN(\n",
    "    image_size=512, margin=margin, min_face_size=100,\n",
    "    thresholds=[0.1,0.1,0.1], factor=0.5, post_process=True,\n",
    "    device='cpu', select_largest=True\n",
    "    )\n",
    "    \n",
    "    bbox, _ = mtcnn.detect(numpy_image)\n",
    "    crop_area = (bbox[0][0]-100, # get bbox area with margin\n",
    "                 bbox[0][1]-100,\n",
    "                 bbox[0][2]+100,\n",
    "                 bbox[0][3]+100)\n",
    "    pil_image = Image.fromarray(numpy_image)\n",
    "    crop_img = pil_image.crop(crop_area)\n",
    "    \n",
    "    return crop_img, bbox, np.array(crop_img).shape[0], np.array(crop_img).shape[1]"
   ]
  },
  {
   "cell_type": "code",
   "execution_count": null,
   "metadata": {},
   "outputs": [],
   "source": [
    "model_name = \"swin_base_patch4_window7_224\"\n",
    "pretrained = \"/data/komedi/pretrained_model/2022-07-07/frontal_27pt_swin_base_patch4_window7_224_100.pt\"\n",
    "model = timm_Net_54(model_name, pretrained)"
   ]
  },
  {
   "cell_type": "code",
   "execution_count": null,
   "metadata": {},
   "outputs": [],
   "source": [
    "def run(i):\n",
    "    image = Image.open(name_list[i])\n",
    "\n",
    "    crop_img, bbox, h, w = mtcnn(image)\n",
    "    resize_img = TF.resize(crop_img, (224,224))\n",
    "    image_tensor = TF.to_tensor(resize_img)\n",
    "    image_tensor = image_tensor.unsqueeze(0)\n",
    "\n",
    "    predict = model(image_tensor)\n",
    "\n",
    "    landmarks = ((predict.view(-1,2)+0.5)).detach().numpy().tolist()\n",
    "    landmarks = np.array([(int(x*w), int(y*h)) for (x, y) in landmarks if 0 <= x <= 224 and 0 <= y <= 224])\n",
    "    return landmarks, bbox"
   ]
  },
  {
   "cell_type": "code",
   "execution_count": null,
   "metadata": {},
   "outputs": [],
   "source": [
    "csv_lists = []\n",
    "for _, i in enumerate(tqdm(range(len(name_list)))):\n",
    "    # if i > 1:\n",
    "    #     break\n",
    "    try:\n",
    "        csv_list = []\n",
    "        csv_list.append(os.path.splitext(file_list[i])[0])\n",
    "        csv_list.append(file_list[i].split('_')[1])                \n",
    "        csv_list.append(file_list[i].split('_')[2])\n",
    "        csv_list.append(name_list[i])\n",
    "        landmarks, bbox = run(i)\n",
    "        for bb in bbox[0]:\n",
    "            csv_list.append(int(bb))\n",
    "        for x,y in landmarks:\n",
    "            csv_list.append((x,y))\n",
    "        csv_lists.append(csv_list)\n",
    "        df = pd.DataFrame(csv_lists)\n",
    "        df.to_csv('test.csv', header=None, index=None)\n",
    "    except TypeError:\n",
    "        pass"
   ]
  },
  {
   "cell_type": "code",
   "execution_count": null,
   "metadata": {},
   "outputs": [],
   "source": [
    "df = pd.DataFrame(csv_lists)\n",
    "df.to_csv('test.csv', header=None, index=None)"
   ]
  },
  {
   "cell_type": "code",
   "execution_count": null,
   "metadata": {},
   "outputs": [],
   "source": [
    "plt.figure(figsize=(11,11))\n",
    "for idx in range(len(landmarks)):\n",
    "    plt.scatter(landmarks[idx][0],landmarks[idx][1],s=20,c='dodgerblue',marker='X')\n",
    "    \n",
    "    plt.annotate(idx, (landmarks[idx][0],landmarks[idx][1]))\n",
    "plt.imshow(crop_img)"
   ]
  },
  {
   "cell_type": "code",
   "execution_count": null,
   "metadata": {},
   "outputs": [],
   "source": []
  }
 ],
 "metadata": {
  "kernelspec": {
   "display_name": "Python 3.10.5 ('FG-FLD')",
   "language": "python",
   "name": "python3"
  },
  "language_info": {
   "codemirror_mode": {
    "name": "ipython",
    "version": 3
   },
   "file_extension": ".py",
   "mimetype": "text/x-python",
   "name": "python",
   "nbconvert_exporter": "python",
   "pygments_lexer": "ipython3",
   "version": "3.10.5"
  },
  "orig_nbformat": 4,
  "vscode": {
   "interpreter": {
    "hash": "d032bec24de8f26ea2ce5b1fbd1f6fe164433d96c079f6cfdc316b720645a670"
   }
  }
 },
 "nbformat": 4,
 "nbformat_minor": 2
}
