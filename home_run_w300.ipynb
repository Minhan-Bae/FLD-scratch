{
 "cells": [
  {
   "cell_type": "code",
   "execution_count": 1,
   "metadata": {},
   "outputs": [
    {
     "name": "stdout",
     "output_type": "stream",
     "text": [
      "| Pytorch version: 1.10.0+cu102\n",
      "| GPU: True\n",
      "| Device :  cuda:2\n",
      "| Device name:  Tesla T4\n",
      "| Device count:  4\n"
     ]
    }
   ],
   "source": [
    "# Import Moudles and Packages\n",
    "import os\n",
    "import time\n",
    "import random\n",
    "\n",
    "import warnings\n",
    "warnings.filterwarnings(\"ignore\")\n",
    "\n",
    "import numpy as np\n",
    "import matplotlib.pyplot as plt\n",
    "\n",
    "%matplotlib inline\n",
    "plt.rcParams[\"axes.grid\"]=False\n",
    "\n",
    "# Import pytorch modules\n",
    "import torch\n",
    "import torch.nn as nn\n",
    "from torch.utils import data as D\n",
    "\n",
    "from torch.optim.lr_scheduler import CosineAnnealingWarmRestarts\n",
    "from torch.cuda.amp import autocast, GradScaler\n",
    "from madgrad import MADGRAD\n",
    "\n",
    "device = 'cuda:2' if torch.cuda.is_available() else 'cpu'\n",
    "\n",
    "print(\"| Pytorch version: {}\".format(torch.__version__))\n",
    "print(\"| GPU: {}\".format(torch.cuda.is_available()))\n",
    "print(\"| Device : \",device)\n",
    "print(\"| Device name: \", torch.cuda.get_device_name(0))\n",
    "print(\"| Device count: \", torch.cuda.device_count())\n"
   ]
  },
  {
   "cell_type": "code",
   "execution_count": 2,
   "metadata": {},
   "outputs": [
    {
     "name": "stdout",
     "output_type": "stream",
     "text": [
      "| Number of image : 100\n",
      "| Number of label : 100\n",
      "| Number of trainset : 90\n",
      "| Number of validset : 10\n"
     ]
    }
   ],
   "source": [
    "# Import local modules\n",
    "from src import config as C\n",
    "from src.models import hrnet, resnet, basenet\n",
    "\n",
    "from src.utils.collate_fn import *\n",
    "from src.utils.print_overwrite import *\n",
    "from src.utils.seed import *\n",
    "from src.utils.view_kypoints import *\n",
    "\n",
    "from src.dataset.kface_dataset import *\n",
    "from src.dataset.album_transform import *\n",
    "from src.dataset import w300_dataset as W\n",
    "\n",
    "seed_everything(C.SEED)\n",
    "\n",
    "print(f\"| Number of image : {len(C.IMAGE_LIST)}\")\n",
    "print(f\"| Number of label : {len(C.LABEL_LIST)}\")\n",
    "print(f\"| Number of trainset : {C.LEN_TRAIN_SET}\")\n",
    "print(f\"| Number of validset : {C.LEN_VALID_SET}\")"
   ]
  },
  {
   "cell_type": "code",
   "execution_count": 3,
   "metadata": {},
   "outputs": [],
   "source": [
    "w_dataset = W.FaceLandmarksDataset(W.Transforms())\n",
    "\n",
    "# # (Option) visualize dataset\n",
    "# for idx, (image, landmarks) in enumerate(w_dataset): # torch.Size([1, 512, 512])\n",
    "#     if idx == 1:\n",
    "#         vis_keypoints(image, landmarks)"
   ]
  },
  {
   "cell_type": "code",
   "execution_count": 4,
   "metadata": {},
   "outputs": [
    {
     "name": "stdout",
     "output_type": "stream",
     "text": [
      "The length of Train set is 6000\n",
      "The length of Valid set is 666\n",
      "| Size of image in train_loader : torch.Size([16, 1, 512, 512])\n",
      "| Size of label in train_loader : torch.Size([16, 27, 2])\n",
      "| Size of image in train_loader : torch.Size([2, 1, 512, 512])\n",
      "| Size of label in train_loader : torch.Size([2, 27, 2])\n"
     ]
    }
   ],
   "source": [
    "len_valid_set = int(0.1*len(w_dataset))\n",
    "len_train_set = len(w_dataset) - len_valid_set\n",
    "\n",
    "print(\"The length of Train set is {}\".format(len_train_set))\n",
    "print(\"The length of Valid set is {}\".format(len_valid_set))\n",
    "\n",
    "train_dataset , valid_dataset,  = torch.utils.data.random_split(w_dataset , [len_train_set, len_valid_set])\n",
    "\n",
    "# shuffle and batch the datasets\n",
    "train_loader = torch.utils.data.DataLoader(train_dataset, batch_size=16, shuffle=True, num_workers=4)\n",
    "valid_loader = torch.utils.data.DataLoader(valid_dataset, batch_size=2, shuffle=False, num_workers=4)\n",
    "\n",
    "train_images, train_landmarks = next(iter(train_loader))\n",
    "valid_images, valid_landmarks = next(iter(valid_loader))\n",
    "\n",
    "print(f\"| Size of image in train_loader : {train_images.shape}\")\n",
    "print(f\"| Size of label in train_loader : {train_landmarks.shape}\")\n",
    "print(f\"| Size of image in train_loader : {valid_images.shape}\")\n",
    "print(f\"| Size of label in train_loader : {valid_landmarks.shape}\")"
   ]
  },
  {
   "cell_type": "code",
   "execution_count": 5,
   "metadata": {},
   "outputs": [],
   "source": [
    "from torchvision import models\n",
    "\n",
    "class resnext50_32x4d(nn.Module):\n",
    "    def __init__(self,num_classes=54):\n",
    "        super().__init__()\n",
    "        self.model_name='resnext50_32x4d'\n",
    "        self.model=models.resnext50_32x4d(pretrained=True)\n",
    "    \n",
    "        self.model.conv1=nn.Conv2d(1, 64, kernel_size=3, stride=2, padding=3, bias=False)\n",
    "        self.model.fc=nn.Linear(self.model.fc.in_features, num_classes)\n",
    "        \n",
    "    def forward(self, x):\n",
    "        x = self.model(x)\n",
    "        \n",
    "        return x"
   ]
  },
  {
   "cell_type": "code",
   "execution_count": 6,
   "metadata": {},
   "outputs": [],
   "source": [
    "model = resnext50_32x4d()\n",
    "# model = model.cpu()\n",
    "# model.load_state_dict(torch.load(\"/home/yuyuqw92/FLD-scratch/result/face_landmarks.pth\",map_location='cpu'))\n",
    "model = model.to(device)"
   ]
  },
  {
   "cell_type": "code",
   "execution_count": 7,
   "metadata": {},
   "outputs": [
    {
     "name": "stdout",
     "output_type": "stream",
     "text": [
      "input : torch.Size([1, 1, 512, 512]) | output : torch.Size([1, 54])\n"
     ]
    }
   ],
   "source": [
    "x = torch.randn([1, 1, 512, 512]).to(device)\n",
    "out = model(x).to(device)\n",
    "print(f\"input : {x.shape} | output : {out.size()}\")"
   ]
  },
  {
   "cell_type": "code",
   "execution_count": 8,
   "metadata": {},
   "outputs": [],
   "source": [
    "criterion = nn.MSELoss()\n",
    "optimizer = MADGRAD(params=model.parameters(), lr=C.LEARNING_RATE, weight_decay=C.WEIGHT_DECAY)\n",
    "scheduler = CosineAnnealingWarmRestarts(optimizer, T_0=C.EPOCHS, T_mult=1)"
   ]
  },
  {
   "cell_type": "code",
   "execution_count": 9,
   "metadata": {},
   "outputs": [
    {
     "name": "stdout",
     "output_type": "stream",
     "text": [
      "Valid Steps: 333/333  Loss: 0.0022 \n",
      "--------------------------------------------------\n",
      "Epoch: 0  Train Loss: 0.0085  Valid Loss: 0.0023\n",
      "\n",
      "--------------------------------------------------\n",
      "\n",
      "Minimum Validation Loss of 0.0023 at epoch 0/100\n",
      "Model Saved\n",
      "\n",
      "Valid Steps: 333/333  Loss: 0.0021 \n",
      "--------------------------------------------------\n",
      "Epoch: 1  Train Loss: 0.0033  Valid Loss: 0.0021\n",
      "\n",
      "--------------------------------------------------\n",
      "\n",
      "Minimum Validation Loss of 0.0021 at epoch 1/100\n",
      "Model Saved\n",
      "\n",
      "Valid Steps: 96/333  Loss: 0.0012  "
     ]
    }
   ],
   "source": [
    "from tqdm import tqdm\n",
    "\n",
    "loss_min = np.inf\n",
    "\n",
    "start_time = time.time()\n",
    "for epoch in range(C.EPOCHS):\n",
    "    \n",
    "    loss_train = 0\n",
    "    loss_valid = 0\n",
    "    running_loss = 0\n",
    "    \n",
    "    model.train()\n",
    "    for step, (images, landmarks) in enumerate(train_loader):\n",
    "        model = model.to(device)    \n",
    "\n",
    "        # images, landmarks = next(iter(train_loader))\n",
    "\n",
    "        images = images.to(device)\n",
    "        landmarks = landmarks.view([landmarks.size(0),-1]).to(device)\n",
    "        \n",
    "        predictions = model(images)\n",
    "        \n",
    "        # clear all the gradients before calculating them\n",
    "        optimizer.zero_grad()\n",
    "        \n",
    "        # find the loss for the current step\n",
    "        loss_train_step = criterion(predictions, landmarks)\n",
    "        \n",
    "        # calculate the gradients\n",
    "        loss_train_step.backward()\n",
    "        \n",
    "        # update the parameters\n",
    "        optimizer.step()\n",
    "        \n",
    "        loss_train += loss_train_step.item()\n",
    "        running_loss = loss_train/(step+1)\n",
    "        \n",
    "        print_overwrite(step, len(train_loader), running_loss, 'train')\n",
    "        \n",
    "    model.eval() \n",
    "    with torch.no_grad():\n",
    "        \n",
    "        for step in range(1,len(valid_loader)+1):\n",
    "            \n",
    "            images, landmarks = next(iter(valid_loader))\n",
    "      \n",
    "            images = images.to(device)\n",
    "            landmarks = landmarks.view(landmarks.size(0),-1).to(device)\n",
    "        \n",
    "            predictions = model(images).to(device)\n",
    "                    \n",
    "            # find the loss for the current step\n",
    "            loss_valid_step = criterion(predictions, landmarks)\n",
    "\n",
    "            loss_valid += loss_valid_step.item()\n",
    "            running_loss = loss_valid/(step+1)\n",
    "\n",
    "            print_overwrite(step, len(valid_loader), running_loss, 'valid')\n",
    "\n",
    "    loss_train /= len(train_loader)\n",
    "    loss_valid /= len(valid_loader)\n",
    "    \n",
    "    print('\\n--------------------------------------------------')\n",
    "    print('Epoch: {}  Train Loss: {:.4f}  Valid Loss: {:.4f}'.format(epoch, loss_train, loss_valid))\n",
    "    print('\\n--------------------------------------------------')\n",
    "    \n",
    "    if loss_valid < loss_min:\n",
    "        loss_min = loss_valid\n",
    "        torch.save(model.state_dict(), '/home/ubuntu/workspace/FLD-scratch/result/face_landmarks.pth') \n",
    "        print(\"\\nMinimum Validation Loss of {:.4f} at epoch {}/{}\".format(loss_min, epoch, C.EPOCHS))\n",
    "        print('Model Saved\\n')\n",
    "\n",
    "print('Training Complete')\n",
    "print(\"Total Elapsed Time : {} s\".format(time.time()-start_time))"
   ]
  },
  {
   "cell_type": "code",
   "execution_count": null,
   "metadata": {},
   "outputs": [],
   "source": [
    "start_time = time.time()\n",
    "\n",
    "with torch.no_grad():\n",
    "\n",
    "    best_network = resnext50_32x4d()\n",
    "    best_network.to(device)\n",
    "    best_network.load_state_dict(torch.load('/home/ubuntu/workspace/FLD-scratch/result/face_landmarks.pth')) \n",
    "    best_network.eval()\n",
    "    \n",
    "    images, landmarks = next(iter(valid_loader))\n",
    "    \n",
    "    images = images.to(device)\n",
    "    landmarks *= 512 #* torch.tensor((512,512))    \n",
    "\n",
    "    predictions = best_network(images).cpu()\n",
    "    predictions = predictions.view([-1,27,2])\n",
    "    predictions *= 512# * torch.tensor((512,512))    \n",
    "    \n",
    "    plt.figure(figsize=(10,20))\n",
    "    \n",
    "    for img_num in range(2):\n",
    "        print(images[img_num].shape)\n",
    "        plt.subplot(2,1,img_num+1)\n",
    "        plt.imshow(images[img_num].cpu().permute(1,2,0).squeeze(), cmap='gray')\n",
    "        plt.scatter(predictions[img_num].T[0], predictions[img_num].T[1], c = 'r', s = 5)\n",
    "        plt.scatter(landmarks[img_num].T[0], landmarks[img_num].T[1], c = 'g', s = 5)\n",
    "\n",
    "print('Total number of test images: {}'.format(len(valid_dataset)))\n",
    "\n",
    "end_time = time.time()\n",
    "print(\"Elapsed Time : {}\".format(end_time - start_time)) "
   ]
  },
  {
   "cell_type": "code",
   "execution_count": null,
   "metadata": {},
   "outputs": [],
   "source": []
  }
 ],
 "metadata": {
  "kernelspec": {
   "display_name": "Python 3.9.0 ('FG-GLD')",
   "language": "python",
   "name": "python3"
  },
  "language_info": {
   "codemirror_mode": {
    "name": "ipython",
    "version": 3
   },
   "file_extension": ".py",
   "mimetype": "text/x-python",
   "name": "python",
   "nbconvert_exporter": "python",
   "pygments_lexer": "ipython3",
   "version": "3.9.0"
  },
  "orig_nbformat": 4,
  "vscode": {
   "interpreter": {
    "hash": "9550210be859de316fbaaac654d2fc4c7fb8b5570e54a571b0ab8123deb4b39d"
   }
  }
 },
 "nbformat": 4,
 "nbformat_minor": 2
}
