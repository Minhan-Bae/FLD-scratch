{
 "cells": [
  {
   "cell_type": "code",
   "execution_count": 4,
   "metadata": {},
   "outputs": [],
   "source": [
    "import torch\n",
    "from torchvision import models\n",
    "import numpy as np\n",
    "import matplotlib.pyplot as plt"
   ]
  },
  {
   "cell_type": "code",
   "execution_count": 5,
   "metadata": {},
   "outputs": [],
   "source": [
    "def show(imgs):\n",
    "    if not isinstance(imgs, list):\n",
    "        imgs = [imgs]\n",
    "    fix, axs = plt.subplots(ncols=len(imgs), squeeze=False)\n",
    "    for i, img in enumerate(imgs):\n",
    "        img = img.detach()\n",
    "        img = F.to_pil_image(img)\n",
    "        axs[0, i].imshow(np.asarray(img))\n",
    "        axs[0, i].set(xticklabels=[], yticklabels=[], xticks=[], yticks=[])"
   ]
  },
  {
   "cell_type": "code",
   "execution_count": 8,
   "metadata": {},
   "outputs": [
    {
     "ename": "ImportError",
     "evalue": "cannot import name 'draw_keypoints' from 'torchvision.utils' (/home/ubuntu/anaconda3/envs/FG-GLD/lib/python3.9/site-packages/torchvision/utils.py)",
     "output_type": "error",
     "traceback": [
      "\u001b[0;31m---------------------------------------------------------------------------\u001b[0m",
      "\u001b[0;31mImportError\u001b[0m                               Traceback (most recent call last)",
      "\u001b[1;32m/home/ubuntu/workspace/FLD-scratch/olds/rcnn.ipynb Cell 3'\u001b[0m in \u001b[0;36m<cell line: 5>\u001b[0;34m()\u001b[0m\n\u001b[1;32m      <a href='vscode-notebook-cell://ssh-remote%2B133.186.250.203/home/ubuntu/workspace/FLD-scratch/olds/rcnn.ipynb#ch0000001vscode-remote?line=2'>3</a>\u001b[0m \u001b[39mfrom\u001b[39;00m \u001b[39mtorchvision\u001b[39;00m\u001b[39m.\u001b[39;00m\u001b[39mtransforms\u001b[39;00m\u001b[39m.\u001b[39;00m\u001b[39mfunctional\u001b[39;00m \u001b[39mimport\u001b[39;00m convert_image_dtype\n\u001b[1;32m      <a href='vscode-notebook-cell://ssh-remote%2B133.186.250.203/home/ubuntu/workspace/FLD-scratch/olds/rcnn.ipynb#ch0000001vscode-remote?line=3'>4</a>\u001b[0m \u001b[39mfrom\u001b[39;00m \u001b[39mtorchvision\u001b[39;00m\u001b[39m.\u001b[39;00m\u001b[39mio\u001b[39;00m \u001b[39mimport\u001b[39;00m read_image\n\u001b[0;32m----> <a href='vscode-notebook-cell://ssh-remote%2B133.186.250.203/home/ubuntu/workspace/FLD-scratch/olds/rcnn.ipynb#ch0000001vscode-remote?line=4'>5</a>\u001b[0m \u001b[39mfrom\u001b[39;00m \u001b[39mtorchvision\u001b[39;00m\u001b[39m.\u001b[39;00m\u001b[39mutils\u001b[39;00m \u001b[39mimport\u001b[39;00m draw_keypoints\n\u001b[1;32m      <a href='vscode-notebook-cell://ssh-remote%2B133.186.250.203/home/ubuntu/workspace/FLD-scratch/olds/rcnn.ipynb#ch0000001vscode-remote?line=6'>7</a>\u001b[0m person_int \u001b[39m=\u001b[39m read_image(\u001b[39m\"\u001b[39m\u001b[39m/data/komedi/k_face_100/cropped_img/0_C1.png\u001b[39m\u001b[39m\"\u001b[39m)\n\u001b[1;32m      <a href='vscode-notebook-cell://ssh-remote%2B133.186.250.203/home/ubuntu/workspace/FLD-scratch/olds/rcnn.ipynb#ch0000001vscode-remote?line=7'>8</a>\u001b[0m person_float \u001b[39m=\u001b[39m convert_image_dtype(person_int, dtype\u001b[39m=\u001b[39mtorch\u001b[39m.\u001b[39mfloat)\n",
      "\u001b[0;31mImportError\u001b[0m: cannot import name 'draw_keypoints' from 'torchvision.utils' (/home/ubuntu/anaconda3/envs/FG-GLD/lib/python3.9/site-packages/torchvision/utils.py)"
     ]
    }
   ],
   "source": [
    "from pathlib import Path\n",
    "from torchvision.models.detection import keypointrcnn_resnet50_fpn\n",
    "from torchvision.transforms.functional import convert_image_dtype\n",
    "from torchvision.io import read_image\n",
    "\n",
    "person_int = read_image(\"/data/komedi/k_face_100/cropped_img/0_C1.png\")\n",
    "person_float = convert_image_dtype(person_int, dtype=torch.float)\n",
    "\n",
    "model = keypointrcnn_resnet50_fpn(pretrained=True, progress=False)\n",
    "model = model.eval()\n",
    "\n",
    "outputs = model([person_float])\n",
    "\n",
    "res = draw_keypoints(person_int, outputs, colors=\"blue\", radius=3)\n",
    "show(res)"
   ]
  }
 ],
 "metadata": {
  "kernelspec": {
   "display_name": "Python 3.9.0 ('FG-GLD')",
   "language": "python",
   "name": "python3"
  },
  "language_info": {
   "codemirror_mode": {
    "name": "ipython",
    "version": 3
   },
   "file_extension": ".py",
   "mimetype": "text/x-python",
   "name": "python",
   "nbconvert_exporter": "python",
   "pygments_lexer": "ipython3",
   "version": "3.9.0"
  },
  "orig_nbformat": 4,
  "vscode": {
   "interpreter": {
    "hash": "9550210be859de316fbaaac654d2fc4c7fb8b5570e54a571b0ab8123deb4b39d"
   }
  }
 },
 "nbformat": 4,
 "nbformat_minor": 2
}
