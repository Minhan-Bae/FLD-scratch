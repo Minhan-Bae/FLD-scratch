{
 "cells": [
  {
   "cell_type": "code",
   "execution_count": 1,
   "metadata": {},
   "outputs": [],
   "source": [
    "impo\n",
    "from src import config as C"
   ]
  },
  {
   "cell_type": "code",
   "execution_count": 2,
   "metadata": {},
   "outputs": [
    {
     "data": {
      "text/plain": [
       "['/data/komedi/k_face_100/cropped_img/0_C1.png',\n",
       " '/data/komedi/k_face_100/cropped_img/1_C4.png',\n",
       " '/data/komedi/k_face_100/cropped_img/2_C7.png',\n",
       " '/data/komedi/k_face_100/cropped_img/3_C10.png',\n",
       " '/data/komedi/k_face_100/cropped_img/4_C13.png']"
      ]
     },
     "execution_count": 2,
     "metadata": {},
     "output_type": "execute_result"
    }
   ],
   "source": [
    "C.IMAGE_LIST[:5]"
   ]
  },
  {
   "cell_type": "code",
   "execution_count": 3,
   "metadata": {},
   "outputs": [],
   "source": [
    "import sys\n",
    "import torch\n",
    "sys.path.append('..')\n",
    "\n",
    "device = 'cuda:1' if torch.cuda.is_available() else 'cpu'"
   ]
  },
  {
   "cell_type": "code",
   "execution_count": null,
   "metadata": {},
   "outputs": [],
   "source": [
    "import facer\n",
    "\n",
    "image = facer.hwc2bchw(facer.read_hwc('data/twogirls.jpg')\n",
    "                       ).to(device=device)  # image: 1 x 3 x h x w\n",
    "\n",
    "face_detector = facer.face_detector('retinaface/mobilenet', device=device)\n",
    "with torch.inference_mode():\n",
    "    faces = face_detector(image)\n",
    "\n",
    "facer.show_bchw(facer.draw_bchw(image, faces))"
   ]
  }
 ],
 "metadata": {
  "kernelspec": {
   "display_name": "Python 3.9.0 ('FG-GLD')",
   "language": "python",
   "name": "python3"
  },
  "language_info": {
   "codemirror_mode": {
    "name": "ipython",
    "version": 3
   },
   "file_extension": ".py",
   "mimetype": "text/x-python",
   "name": "python",
   "nbconvert_exporter": "python",
   "pygments_lexer": "ipython3",
   "version": "3.9.0"
  },
  "orig_nbformat": 4,
  "vscode": {
   "interpreter": {
    "hash": "9550210be859de316fbaaac654d2fc4c7fb8b5570e54a571b0ab8123deb4b39d"
   }
  }
 },
 "nbformat": 4,
 "nbformat_minor": 2
}
