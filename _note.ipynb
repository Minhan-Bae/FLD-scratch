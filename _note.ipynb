{
 "cells": [
  {
   "cell_type": "code",
   "execution_count": null,
   "metadata": {},
   "outputs": [],
   "source": [
    "import os\n",
    "import warnings\n",
    "warnings.filterwarnings(\"ignore\")\n",
    "\n",
    "import gc\n",
    "gc.collect()\n",
    "\n",
    "import cv2\n",
    "import time\n",
    "import random\n",
    "import natsort\n",
    "from pathlib import Path\n",
    "\n",
    "import matplotlib.pyplot as plt\n",
    "%matplotlib inline\n",
    "plt.rcParams[\"axes.grid\"]=False\n",
    "\n",
    "# Import pytorch modules\n",
    "import torch\n",
    "torch.cuda.empty_cache()\n",
    "\n",
    "import dlib\n",
    "from imutils import face_utils\n",
    "import torchvision.transforms.functional as TF\n",
    "from torchvision import models\n",
    "# Import local modules\n",
    "from src.models.nnabla_model import *\n",
    "from src.utils.get_list import *\n",
    "from src.utils.print_overwrite import *"
   ]
  },
  {
   "cell_type": "code",
   "execution_count": null,
   "metadata": {},
   "outputs": [],
   "source": [
    "device = 'cuda:3' if torch.cuda.is_available() else 'cpu'\n",
    "\n",
    "SRC_ROOT = \"/home/ubuntu/workspace/FLD-scratch/src/\"\n",
    "\n",
    "INPUT_ROOT = \"/data/komedi/k-face-100\"\n",
    "IMAGE_ROOT = os.path.join(INPUT_ROOT, \"cropped_img\")\n",
    "IMAGE_LIST = get_file_list(IMAGE_ROOT, case=\"image\")\n",
    "\n",
    "# pretrained_model = \"/home/ubuntu/workspace/FLD-scratch/src/pretrained_model/mobilenet_224_model_best_gdconv_external.pth.tar\"\n",
    "# model_name = Path(pretrained_model).stem\n",
    "model = resnet_depth\n",
    "\n",
    "\n",
    "\n"
   ]
  }
 ],
 "metadata": {
  "kernelspec": {
   "display_name": "Python 3.9.0 ('FG-GLD')",
   "language": "python",
   "name": "python3"
  },
  "language_info": {
   "codemirror_mode": {
    "name": "ipython",
    "version": 3
   },
   "file_extension": ".py",
   "mimetype": "text/x-python",
   "name": "python",
   "nbconvert_exporter": "python",
   "pygments_lexer": "ipython3",
   "version": "3.9.0"
  },
  "orig_nbformat": 4,
  "vscode": {
   "interpreter": {
    "hash": "9550210be859de316fbaaac654d2fc4c7fb8b5570e54a571b0ab8123deb4b39d"
   }
  }
 },
 "nbformat": 4,
 "nbformat_minor": 2
}
