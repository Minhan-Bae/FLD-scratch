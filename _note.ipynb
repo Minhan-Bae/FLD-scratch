{
 "cells": [
  {
   "cell_type": "code",
   "execution_count": 3,
   "metadata": {},
   "outputs": [],
   "source": [
    "import os\n",
    "import warnings\n",
    "warnings.filterwarnings(\"ignore\")\n",
    "\n",
    "import gc\n",
    "gc.collect()\n",
    "\n",
    "import cv2\n",
    "import time\n",
    "import random\n",
    "import natsort\n",
    "from pathlib import Path\n",
    "\n",
    "import matplotlib.pyplot as plt\n",
    "%matplotlib inline\n",
    "plt.rcParams[\"axes.grid\"]=False\n",
    "\n",
    "# Import pytorch modules\n",
    "import torch\n",
    "torch.cuda.empty_cache()\n",
    "\n",
    "import dlib\n",
    "from imutils import face_utils\n",
    "import torchvision.transforms.functional as TF\n",
    "from torchvision import models\n",
    "# Import local modules\n",
    "from src.models.nnabla_model import *\n",
    "from src.utils.get_list import *\n",
    "from src.utils.print_overwrite import *\n",
    "\n",
    "device = 'cuda:2' if torch.cuda.is_available() else 'cpu'"
   ]
  },
  {
   "cell_type": "code",
   "execution_count": 2,
   "metadata": {},
   "outputs": [],
   "source": [
    "# device = 'cuda:3' if torch.cuda.is_available() else 'cpu'\n",
    "\n",
    "# SRC_ROOT = \"/home/ubuntu/workspace/FLD-scratch/src/\"\n",
    "\n",
    "# INPUT_ROOT = \"/data/komedi/k-face-100\"\n",
    "# IMAGE_ROOT = os.path.join(INPUT_ROOT, \"cropped_img\")\n",
    "# IMAGE_LIST = get_file_list(IMAGE_ROOT, case=\"image\")\n",
    "\n",
    "# # pretrained_model = \"/home/ubuntu/workspace/FLD-scratch/src/pretrained_model/mobilenet_224_model_best_gdconv_external.pth.tar\"\n",
    "# # model_name = Path(pretrained_model).stem\n",
    "# model = resnet_depth\n",
    "\n",
    "\n",
    "\n"
   ]
  },
  {
   "cell_type": "code",
   "execution_count": 4,
   "metadata": {},
   "outputs": [],
   "source": [
    "import nnabla as nn\n",
    "import nnabla.parametric_functions as PF\n",
    "import nnabla.functions as F\n",
    "\n",
    "\n",
    "def conv_block(x, in_planes, out_planes, test=True):\n",
    "    residual = x\n",
    "    out1 = PF.batch_normalization(x, batch_stat=not test, name='bn1')\n",
    "    out1 = F.relu(out1, True)\n",
    "    out1 = PF.convolution(out1, int(out_planes / 2), kernel=(3, 3),\n",
    "                          stride=(1, 1), pad=(1, 1), name='conv1', with_bias=False)\n",
    "\n",
    "    out2 = PF.batch_normalization(out1, batch_stat=not test, name='bn2')\n",
    "    out2 = F.relu(out2, True)\n",
    "    out2 = PF.convolution(out2, int(out_planes / 4), kernel=(3, 3),\n",
    "                          stride=(1, 1), pad=(1, 1), name='conv2', with_bias=False)\n",
    "\n",
    "    out3 = PF.batch_normalization(out2, batch_stat=not test, name='bn3')\n",
    "    out3 = F.relu(out3, True)\n",
    "    out3 = PF.convolution(out3, int(out_planes / 4), kernel=(3, 3),\n",
    "                          stride=(1, 1), pad=(1, 1), name='conv3', with_bias=False)\n",
    "\n",
    "    out3 = F.concatenate(out1, out2, out3, axis=1)\n",
    "\n",
    "    if in_planes != out_planes:\n",
    "        residual = PF.batch_normalization(\n",
    "            residual, batch_stat=not test, name='downsample/0')\n",
    "        residual = F.relu(residual, True)\n",
    "        residual = PF.convolution(residual, out_planes, kernel=(\n",
    "            1, 1), stride=(1, 1), name='downsample/2', with_bias=False)\n",
    "    out3 += residual\n",
    "    return out3\n",
    "\n",
    "\n",
    "def hour_glass(inp, depth, num_features):\n",
    "    # Upper branch\n",
    "    up1 = inp\n",
    "    with nn.parameter_scope('b1_' + str(depth)):\n",
    "        up1 = conv_block(up1, num_features, num_features)\n",
    "\n",
    "    # Lower branch\n",
    "    low1 = F.average_pooling(inp, (2, 2), stride=(2, 2))\n",
    "    with nn.parameter_scope('b2_' + str(depth)):\n",
    "        low1 = conv_block(low1, num_features, num_features)\n",
    "\n",
    "    if depth > 1:\n",
    "        low2 = hour_glass(low1, depth - 1, num_features)\n",
    "    else:\n",
    "        low2 = low1\n",
    "        with nn.parameter_scope('b2_plus_' + str(depth)):\n",
    "            low2 = conv_block(low2, num_features, num_features)\n",
    "\n",
    "    low3 = low2\n",
    "    with nn.parameter_scope('b3_' + str(depth)):\n",
    "        low3 = conv_block(low3, num_features, num_features)\n",
    "    up2 = F.interpolate(low3, scale=(2, 2), mode='nearest')\n",
    "    return up1 + up2\n",
    "\n",
    "\n",
    "def fan(x, num_modules=1, test=True):\n",
    "    x = PF.convolution(x, 64, kernel=(7, 7), stride=(2, 2),\n",
    "                       pad=(3, 3), name='conv1')\n",
    "    x = PF.batch_normalization(x, batch_stat=not test, name='bn1')\n",
    "    x = F.relu(x, True)\n",
    "    with nn.parameter_scope('conv2'):\n",
    "        x = conv_block(x, 64, 128)\n",
    "    x = F.average_pooling(x, (2, 2), stride=(2, 2))\n",
    "    with nn.parameter_scope('conv3'):\n",
    "        x = conv_block(x, 128, 128)\n",
    "    with nn.parameter_scope('conv4'):\n",
    "        x = conv_block(x, 128, 256)\n",
    "    previous = x\n",
    "\n",
    "    outputs = []\n",
    "    for i in range(num_modules):\n",
    "        with nn.parameter_scope('m' + str(i)):\n",
    "            hg = hour_glass(previous, 4, 256)\n",
    "        ll = hg\n",
    "        with nn.parameter_scope('top_m_' + str(i)):\n",
    "            ll = conv_block(ll, 256, 256)\n",
    "        ll = PF.convolution(ll, 256, kernel=(1, 1), stride=(\n",
    "            1, 1), pad=(0, 0), name='conv_last' + str(i))\n",
    "        ll = PF.batch_normalization(\n",
    "            ll, batch_stat=not test, name='bn_end' + str(i))\n",
    "        ll = F.relu(ll, True)\n",
    "\n",
    "        # Predict heatmaps\n",
    "        tmp_out = PF.convolution(ll, 68, kernel=(\n",
    "            1, 1), stride=(1, 1), pad=(0, 0), name='l' + str(i))\n",
    "        outputs.append(tmp_out)\n",
    "\n",
    "        if i < num_modules - 1:\n",
    "            ll = PF.convolution(ll, 256, kernel=(1, 1), stride=(\n",
    "                1, 1), pad=(0, 0), name='bl' + str(i))\n",
    "            tmp_out_ = PF.convolution(tmp_out, 256, kernel=(\n",
    "                1, 1), stride=(1, 1), pad=(0, 0), name='al' + str(i))\n",
    "            previous = previous + ll + tmp_out_\n",
    "    return outputs\n",
    "\n",
    "\n",
    "def bottleneck(x, planes, stride=1, downsample=None, test=True):\n",
    "    residual = x\n",
    "    out = PF.convolution(x, planes, kernel=(\n",
    "        1, 1), name='conv1', with_bias=False)\n",
    "    out = PF.batch_normalization(out, batch_stat=not test, name='bn1')\n",
    "    out = F.relu(out, True)\n",
    "    out = PF.convolution(out, planes, kernel=(3, 3), stride=(\n",
    "        stride, stride), pad=(1, 1), name='conv2', with_bias=False)\n",
    "    out = PF.batch_normalization(out, batch_stat=not test, name='bn2')\n",
    "    out = F.relu(out, True)\n",
    "    out = PF.convolution(out, planes * 4, kernel=(1, 1),\n",
    "                         name='conv3', with_bias=False)\n",
    "    out = PF.batch_normalization(out, batch_stat=not test, name='bn3')\n",
    "\n",
    "    if downsample is not None:\n",
    "        residual = downsample\n",
    "    out += residual\n",
    "    out = F.relu(out, True)\n",
    "    return out\n",
    "\n",
    "\n",
    "def create_layer(x, inplanes, planes, blocks, stride=1, test=True):\n",
    "    downsample = None\n",
    "    dict = {64: 'layer1', 128: 'layer2', 256: 'layer3', 512: 'layer4'}\n",
    "    with nn.parameter_scope(dict[planes]):\n",
    "        with nn.parameter_scope('0'):\n",
    "            if stride != 1 or inplanes != planes * 4:\n",
    "                downsample = PF.convolution(x, planes * 4, kernel=(1, 1), stride=(stride, stride),\n",
    "                                            name='downsample/0',\n",
    "                                            with_bias=False)\n",
    "                downsample = PF.batch_normalization(\n",
    "                    downsample, batch_stat=not test, name='downsample/1')\n",
    "            layers = bottleneck(x, planes, stride, downsample)\n",
    "        for i in range(1, blocks):\n",
    "            with nn.parameter_scope(str(i)):\n",
    "                layers = bottleneck(layers, planes)\n",
    "    return layers\n",
    "\n",
    "\n",
    "def resnet_depth(x, layers=[3, 8, 36, 3], num_classes=68, test=True):\n",
    "    inplanes = 64\n",
    "    x = PF.convolution(x, 64, kernel=(7, 7), stride=(2, 2),\n",
    "                       pad=(3, 3), name='conv1', with_bias=False)\n",
    "    x = PF.batch_normalization(x, batch_stat=not test, name='bn1')\n",
    "    x = F.relu(x, True)\n",
    "    x = F.max_pooling(x, kernel=(3, 3), stride=(2, 2), pad=(1, 1))\n",
    "    x = create_layer(x, inplanes, 64, layers[0])\n",
    "    x = create_layer(x, inplanes, 128, layers[1], stride=2)\n",
    "    x = create_layer(x, inplanes, 256, layers[2], stride=2)\n",
    "    x = create_layer(x, inplanes, 512, layers[3], stride=2)\n",
    "    x = F.average_pooling(x, kernel=(7, 7))\n",
    "    x = F.reshape(x, (x.shape[0], -1))\n",
    "    x = PF.affine(x, num_classes, name='fc')\n",
    "    return "
   ]
  },
  {
   "cell_type": "code",
   "execution_count": 5,
   "metadata": {},
   "outputs": [
    {
     "name": "stdout",
     "output_type": "stream",
     "text": [
      "Loading ResNetDepth weights...\n"
     ]
    }
   ],
   "source": [
    "import nnabla as nn\n",
    "with nn.parameter_scope(\"ResNetDepth\"):\n",
    "    print(\"Loading ResNetDepth weights...\")\n",
    "    # nn.load_parameters(resnet_depth_model)"
   ]
  },
  {
   "cell_type": "code",
   "execution_count": 6,
   "metadata": {},
   "outputs": [
    {
     "data": {
      "text/plain": [
       "<contextlib._GeneratorContextManager at 0x7ff5ba678130>"
      ]
     },
     "execution_count": 6,
     "metadata": {},
     "output_type": "execute_result"
    }
   ],
   "source": [
    "nn.parameter_scope(\"ResNetDepth\")"
   ]
  },
  {
   "cell_type": "markdown",
   "metadata": {},
   "source": []
  },
  {
   "cell_type": "markdown",
   "metadata": {},
   "source": []
  },
  {
   "cell_type": "code",
   "execution_count": 2,
   "metadata": {},
   "outputs": [],
   "source": [
    "import os\n",
    "from xml.etree import ElementTree\n",
    "\n",
    "root_dir = '/data/komedi/dataset/open_dataset/ibug_300W'\n",
    "tree = ElementTree.parse(os.path.join(root_dir,\n",
    "                                      f'labels_ibug_300W_{\"train\"}.xml'))"
   ]
  },
  {
   "cell_type": "code",
   "execution_count": 10,
   "metadata": {},
   "outputs": [
    {
     "data": {
      "text/plain": [
       "{'file': 'lfpw/trainset/image_0457.png', 'width': '350', 'height': '464'}"
      ]
     },
     "execution_count": 10,
     "metadata": {},
     "output_type": "execute_result"
    }
   ],
   "source": [
    "root = tree.getroot()\n",
    "filename = root[2]\n",
    "filename[0].attrib"
   ]
  },
  {
   "cell_type": "code",
   "execution_count": null,
   "metadata": {},
   "outputs": [],
   "source": [
    "self.root_dir = '/data/komedi/dataset/open_dataset/ibug_300W'\n",
    "\n",
    "self.image_paths = []\n",
    "self.landmarks = []\n",
    "self.crops = []\n",
    "self.preprocessor = preprocessor\n",
    "self.train = train\n",
    "\n",
    "tree = ElementTree.parse(os.path.join(self.root_dir, f'labels_ibug_300W_{\"train\" if train else \"test\"}.xml'))\n",
    "root = tree.getroot()\n",
    "\n",
    "for filename in root[2]:\n",
    "    self.image_paths.append(os.path.join(self.root_dir, filename.attrib['file']))\n",
    "\n",
    "    self.crops.append(filename[0].attrib)\n",
    "\n",
    "    landmark = []\n",
    "    num_list = [0, 2, 5, 8, 11, 14, 16, 17, 19, 21, 22, 24, 26, 27, 29, 30, 31, 33, 35, 36, 39, 42, 45, 48, 51, 54, 57]\n",
    "\n",
    "    for num in num_list:\n",
    "        x_coordinate = int(filename[0][num].attrib['x'])\n",
    "        y_coordinate = int(filename[0][num].attrib['y'])\n",
    "        landmark.append([x_coordinate, y_coordinate])\n",
    "    self.landmarks.append(landmark)\n",
    "\n",
    "self.landmarks = np.array(self.landmarks).astype('float32')\n",
    "\n",
    "assert len(self.image_paths) == len(self.landmarks)\n",
    "\n",
    "def __len__(self):\n",
    "return len(self.image_paths)\n",
    "\n",
    "def __getitem__(self, index):\n",
    "image = io.imread(self.image_paths[index], as_gray = False)\n",
    "landmarks = self.landmarks[index]\n",
    "\n",
    "image, landmarks = self.preprocessor(image, landmarks, self.crops[index])\n",
    "\n",
    "return image, landmarks"
   ]
  },
  {
   "cell_type": "code",
   "execution_count": 7,
   "metadata": {},
   "outputs": [],
   "source": [
    "import pandas as pd\n",
    "from PIL import Image"
   ]
  },
  {
   "cell_type": "code",
   "execution_count": 15,
   "metadata": {},
   "outputs": [],
   "source": [
    "data_path = \"/data/komedi/dataset/540x1L_kface_nocropped/540_27pt_kface.csv\""
   ]
  },
  {
   "cell_type": "code",
   "execution_count": 16,
   "metadata": {},
   "outputs": [],
   "source": [
    "data_list = pd.read_csv(data_path, header=None).values.tolist()"
   ]
  },
  {
   "cell_type": "code",
   "execution_count": 23,
   "metadata": {},
   "outputs": [],
   "source": [
    "cnt = 0"
   ]
  },
  {
   "cell_type": "code",
   "execution_count": 66,
   "metadata": {},
   "outputs": [
    {
     "data": {
      "image/png": "[encoded data removed]",
      "text/plain": [
       "<Figure size 360x360 with 1 Axes>"
      ]
     },
     "metadata": {
      "needs_background": "light"
     },
     "output_type": "display_data"
    }
   ],
   "source": [
    "import cv2\n",
    "import matplotlib.pyplot as plt\n",
    "plt.figure(figsize=(5,5))\n",
    "for cnt in range(540):\n",
    "    \n",
    "    image = cv2.cvtColor(cv2.imread(data_list[cnt][2],0),cv2.COLOR_BGR2RGB)\n",
    "    plt.imshow(image)\n"
   ]
  },
  {
   "cell_type": "code",
   "execution_count": 68,
   "metadata": {},
   "outputs": [
    {
     "data": {
      "text/plain": [
       "numpy.ndarray"
      ]
     },
     "execution_count": 68,
     "metadata": {},
     "output_type": "execute_result"
    }
   ],
   "source": [
    "image.shape\n",
    "type(image)"
   ]
  }
 ],
 "metadata": {
  "kernelspec": {
   "display_name": "Python 3.9.0 ('FG-GLD')",
   "language": "python",
   "name": "python3"
  },
  "language_info": {
   "codemirror_mode": {
    "name": "ipython",
    "version": 3
   },
   "file_extension": ".py",
   "mimetype": "text/x-python",
   "name": "python",
   "nbconvert_exporter": "python",
   "pygments_lexer": "ipython3",
   "version": "3.9.0"
  },
  "orig_nbformat": 4,
  "vscode": {
   "interpreter": {
    "hash": "9550210be859de316fbaaac654d2fc4c7fb8b5570e54a571b0ab8123deb4b39d"
   }
  }
 },
 "nbformat": 4,
 "nbformat_minor": 2
}
