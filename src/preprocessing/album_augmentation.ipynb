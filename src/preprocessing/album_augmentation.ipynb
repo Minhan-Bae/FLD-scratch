{
 "cells": [
  {
   "cell_type": "code",
   "execution_count": 1,
   "metadata": {},
   "outputs": [],
   "source": [
    "import os\n",
    "import random\n",
    "import numpy as np\n",
    "import pandas as pd\n",
    "\n",
    "import albumentations as A\n",
    "from PIL import Image\n",
    "\n",
    "import matplotlib.pyplot as plt\n",
    "%matplotlib inline"
   ]
  },
  {
   "cell_type": "code",
   "execution_count": 2,
   "metadata": {},
   "outputs": [
    {
     "name": "stdout",
     "output_type": "stream",
     "text": [
      "1781\n"
     ]
    }
   ],
   "source": [
    "data_list = pd.read_csv('/data/komedi/dataset/versioning/22-07-15-1340-train-no300w.csv',header=None).values.tolist()\n",
    "print(len(data_list))"
   ]
  },
  {
   "cell_type": "code",
   "execution_count": 3,
   "metadata": {},
   "outputs": [],
   "source": [
    "# data_list = pd.read_csv('/data/komedi/dataset/versioning/22-07-15-1600-valid.csv',header=None).values.tolist()\n",
    "# print(len(data_list))"
   ]
  },
  {
   "cell_type": "code",
   "execution_count": 4,
   "metadata": {},
   "outputs": [],
   "source": [
    "cases = \"train\"\n",
    "if cases == \"train\":\n",
    "    aug_list = {\"normal\":None,\n",
    "                \"horizontal\":A.HorizontalFlip(always_apply=True),\n",
    "                # \"gaussnoise\":A.GaussNoise(always_apply=True),\n",
    "                \"clahe\":A.CLAHE(always_apply=True),\n",
    "                \"imagecomp\":A.ImageCompression(always_apply=True),\n",
    "                \"randomgamma\":A.RandomGamma(always_apply=True),\n",
    "                # \"posterize\":A.Posterize(always_apply=True),\n",
    "                \"shiftscalerotate\":A.ShiftScaleRotate(border_mode=1, always_apply=True),\n",
    "                # \"randomscale\":A.RandomScale(scale_limit=(-0.5,0.5), always_apply=True),\n",
    "                \"blur\":A.Blur(always_apply=True),\n",
    "                \"affine1\": A.Affine(scale=(0.5,1.5),shear=(-45,-15),always_apply=True),\n",
    "                \"affine2\": A.Affine(scale=(0.5,1.5),shear=(-15,15),always_apply=True),\n",
    "                \"affine3\": A.Affine(scale=(0.5,1.5),shear=(15,45),always_apply=True),\n",
    "                }\n",
    "                \n",
    "else:\n",
    "    aug_list = {\"normal\":None}\n",
    "\n",
    "for dir in aug_list.keys():\n",
    "    os.makedirs(f\"/data/komedi/dataset/{cases}/{dir}\",exist_ok=True)"
   ]
  },
  {
   "cell_type": "code",
   "execution_count": 5,
   "metadata": {},
   "outputs": [
    {
     "name": "stderr",
     "output_type": "stream",
     "text": [
      "100%|██████████| 1781/1781 [29:41<00:00,  1.00s/it]\n"
     ]
    },
    {
     "name": "stdout",
     "output_type": "stream",
     "text": [
      "17810\n"
     ]
    },
    {
     "ename": "NameError",
     "evalue": "name 'komedi' is not defined",
     "output_type": "error",
     "traceback": [
      "\u001b[0;31m---------------------------------------------------------------------------\u001b[0m",
      "\u001b[0;31mNameError\u001b[0m                                 Traceback (most recent call last)",
      "\u001b[1;32m/home/ubuntu/workspace/FLD-scratch/src/preprocessing/album_augmentation.ipynb 셀 5\u001b[0m in \u001b[0;36m<cell line: 64>\u001b[0;34m()\u001b[0m\n\u001b[1;32m     <a href='vscode-notebook-cell://ssh-remote%2B133.186.250.203/home/ubuntu/workspace/FLD-scratch/src/preprocessing/album_augmentation.ipynb#ch0000004vscode-remote?line=61'>62</a>\u001b[0m     df\u001b[39m.\u001b[39mto_csv(\u001b[39mf\u001b[39m\u001b[39m\"\u001b[39m\u001b[39m/data/komedi/dataset/versioning/22-07-15-1850-\u001b[39m\u001b[39m{\u001b[39;00mcases\u001b[39m}\u001b[39;00m\u001b[39m.csv\u001b[39m\u001b[39m\"\u001b[39m,header\u001b[39m=\u001b[39m\u001b[39mNone\u001b[39;00m, index\u001b[39m=\u001b[39m\u001b[39mNone\u001b[39;00m)\n\u001b[1;32m     <a href='vscode-notebook-cell://ssh-remote%2B133.186.250.203/home/ubuntu/workspace/FLD-scratch/src/preprocessing/album_augmentation.ipynb#ch0000004vscode-remote?line=62'>63</a>\u001b[0m \u001b[39mprint\u001b[39m(\u001b[39mlen\u001b[39m(csv_lists))\n\u001b[0;32m---> <a href='vscode-notebook-cell://ssh-remote%2B133.186.250.203/home/ubuntu/workspace/FLD-scratch/src/preprocessing/album_augmentation.ipynb#ch0000004vscode-remote?line=63'>64</a>\u001b[0m data\u001b[39m/\u001b[39mkomedi\u001b[39m/\u001b[39mdataset\u001b[39m/\u001b[39m_rawdata\u001b[39m/\u001b[39mAFLW\u001b[39m/\u001b[39m\u001b[39m500\u001b[39m\u001b[39m/\u001b[39mimages_500()\n",
      "\u001b[0;31mNameError\u001b[0m: name 'komedi' is not defined"
     ]
    }
   ],
   "source": [
    "from tqdm import tqdm\n",
    "csv_lists = []\n",
    "for idx, data in enumerate(tqdm(data_list)):\n",
    "    # if idx>=10:\n",
    "    #     break\n",
    "    image_name = data[0]\n",
    "\n",
    "    margin = 200\n",
    "    crop_area = (data[4]-margin//2,\n",
    "                    data[5]-margin//2,\n",
    "                    data[6]+margin//2,\n",
    "                    data[7]+margin//2)\n",
    "    \n",
    "    pil_image = Image.open(data[3])\n",
    "    crp_image = pil_image.crop(crop_area)\n",
    "\n",
    "    npy_image = np.array(crp_image)\n",
    "\n",
    "    label = []\n",
    "    for landmark in data[8:]:\n",
    "        x,y = eval(landmark[1:-1])\n",
    "        label.append([x,y])\n",
    "    lst_label = np.array(label)\n",
    "\n",
    "    for types in aug_list.keys():\n",
    "        csv_list = []\n",
    "        if not aug_list[types]:\n",
    "            transform = A.Compose([\n",
    "                A.Resize(224,224)],\n",
    "                keypoint_params = A.KeypointParams(format=\"xy\",remove_invisible = False))\n",
    "            \n",
    "            transformed = transform(image=npy_image, keypoints=lst_label)\n",
    "            aug_image = transformed['image']\n",
    "            aug_label = transformed['keypoints']\n",
    "                    \n",
    "            out_image = aug_image\n",
    "            out_label = aug_label    \n",
    "        else:\n",
    "            transform = A.Compose([\n",
    "                aug_list[types],A.Resize(224,224)],\n",
    "                keypoint_params = A.KeypointParams(format=\"xy\",remove_invisible = False))\n",
    "\n",
    "            transformed = transform(image=npy_image, keypoints=lst_label)\n",
    "            aug_image = transformed['image']\n",
    "            aug_label = transformed['keypoints']\n",
    "\n",
    "            out_image = aug_image\n",
    "            out_label = aug_label\n",
    "            \n",
    "        image = Image.fromarray(out_image)\n",
    "        image.save(f\"/data/komedi/dataset/{cases}/{types}/{image_name}\")\n",
    "\n",
    "        csv_list.append(image_name)\n",
    "        csv_list.append(f\"/data/komedi/dataset/{cases}/{types}/{image_name}\")\n",
    "        for label in out_label:\n",
    "            x,y = label\n",
    "            csv_list.append((x,y))\n",
    "        csv_lists.append(csv_list)\n",
    "        \n",
    "    random.shuffle(csv_lists)\n",
    "    df = pd.DataFrame(csv_lists)\n",
    "    df.to_csv(f\"/data/komedi/dataset/versioning/22-07-15-1850-{cases}.csv\",header=None, index=None)\n",
    "print(len(csv_lists))\n"
   ]
  },
  {
   "cell_type": "code",
   "execution_count": null,
   "metadata": {},
   "outputs": [],
   "source": [
    "random.shuffle(data_list)\n",
    "\"\"\"\n",
    "0: name\n",
    "1 ~ 2: type(kface, ibug, aflw2000)\n",
    "3: image path\n",
    "4 ~ 7: bbox value(lx, ly, rx, ry)\n",
    "8 ~ 35: facial landmark \n",
    "\"\"\"\n",
    "\n",
    "idx = 0\n",
    "data = data_list[idx]\n",
    "image = Image.open(data[3]).crop((data[4]-100,data[5]-100,data[6]+100,data[7]+100))\n",
    "image = np.array(image)\n",
    "# plt.figure(figsize=(8,8))\n",
    "# plt.imshow(image)\n",
    "label = []\n",
    "for landmark in data[8:]:\n",
    "    x,y = eval(landmark[1:-1])\n",
    "    # plt.scatter(x,y,s=5,c='r')\n",
    "    label.append([x,y])\n",
    "label = np.array(label)"
   ]
  },
  {
   "cell_type": "code",
   "execution_count": null,
   "metadata": {},
   "outputs": [],
   "source": [
    "transform_list = []\n",
    "transform = A.Compose([\n",
    "    A.HorizontalFlip(always_apply=True)\n",
    "],keypoint_params = A.KeypointParams(format=\"xy\",remove_invisible = False))"
   ]
  },
  {
   "cell_type": "code",
   "execution_count": null,
   "metadata": {},
   "outputs": [],
   "source": [
    "transformed = transform(image=image, keypoints=label)\n",
    "aug_image = transformed['image']\n",
    "aug_label = transformed['keypoints']"
   ]
  },
  {
   "cell_type": "code",
   "execution_count": null,
   "metadata": {},
   "outputs": [],
   "source": [
    "pil_image = Image.fromarray(aug_image)\n",
    "\n",
    "plt.figure(figsize=(8,8))\n",
    "plt.imshow(pil_image)\n",
    "for landmark in aug_label:\n",
    "    x,y = landmark\n",
    "    plt.scatter(x,y,s=5,c='r')"
   ]
  },
  {
   "cell_type": "code",
   "execution_count": null,
   "metadata": {},
   "outputs": [],
   "source": []
  }
 ],
 "metadata": {
  "kernelspec": {
   "display_name": "Python 3.10.5 ('FG-FLD')",
   "language": "python",
   "name": "python3"
  },
  "language_info": {
   "codemirror_mode": {
    "name": "ipython",
    "version": 3
   },
   "file_extension": ".py",
   "mimetype": "text/x-python",
   "name": "python",
   "nbconvert_exporter": "python",
   "pygments_lexer": "ipython3",
   "version": "3.10.5"
  },
  "orig_nbformat": 4,
  "vscode": {
   "interpreter": {
    "hash": "d032bec24de8f26ea2ce5b1fbd1f6fe164433d96c079f6cfdc316b720645a670"
   }
  }
 },
 "nbformat": 4,
 "nbformat_minor": 2
}
