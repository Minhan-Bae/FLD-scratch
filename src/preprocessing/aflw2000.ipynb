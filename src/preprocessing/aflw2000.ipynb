{
 "cells": [
  {
   "cell_type": "markdown",
   "metadata": {},
   "source": [
    "**Set AFLW2000 dataset**"
   ]
  },
  {
   "cell_type": "markdown",
   "metadata": {},
   "source": [
    "import module and packages"
   ]
  },
  {
   "cell_type": "code",
   "execution_count": null,
   "metadata": {},
   "outputs": [],
   "source": [
    "import os\n",
    "\n",
    "from scipy.io import loadmat\n",
    "from PIL import Image\n",
    "\n",
    "import matplotlib.pyplot as plt\n",
    "from tqdm import tqdm\n",
    "from pathlib import Path\n",
    "import pandas as pd\n",
    "import math"
   ]
  },
  {
   "cell_type": "markdown",
   "metadata": {},
   "source": [
    "read mat format"
   ]
  },
  {
   "cell_type": "code",
   "execution_count": null,
   "metadata": {},
   "outputs": [],
   "source": [
    "\"\"\"\n",
    "2,000 number of file\n",
    "\"\"\"\n",
    "\n",
    "dir = \"/data/komedi/dataset/_rawdata/AFLW/AFLW2000/\"\n",
    "image_list = sorted([os.path.join(dir,file) for file in os.listdir(dir) if file.endswith('jpg')])\n",
    "label_list = sorted([os.path.join(dir,file) for file in os.listdir(dir) if file.endswith('mat')])"
   ]
  },
  {
   "cell_type": "code",
   "execution_count": null,
   "metadata": {},
   "outputs": [],
   "source": [
    "num = 0\n",
    "label = loadmat(label_list[num])\n",
    "label"
   ]
  },
  {
   "cell_type": "markdown",
   "metadata": {},
   "source": [
    "get image name "
   ]
  },
  {
   "cell_type": "code",
   "execution_count": null,
   "metadata": {},
   "outputs": [],
   "source": [
    "margin = 200\n",
    "# AFLW는 face crop된 상태로 시작하기에 이미지 크기 확장, 즉 image=crop_img, crop_img=image\n",
    "csv_lists = []\n",
    "start_num = 0\n",
    "# max_num = start_num+500\n",
    "max_num = 'all'\n",
    "cnt = 0\n",
    "\n",
    "os.makedirs(f\"/data/komedi/AFLW/{max_num}/images_{max_num}\",exist_ok=True)\n",
    "os.makedirs(f\"/data/komedi/AFLW/{max_num}/cropimg_{max_num}\",exist_ok=True)\n",
    "for _, num in enumerate(tqdm(range(start_num, len(image_list)))):\n",
    "    # if num>=max_num:\n",
    "    #     break\n",
    "    csv_list = []\n",
    "    \n",
    "    image = Image.open(image_list[num])\n",
    "    w, h = image.size\n",
    "    extract_area = (-margin//2,\n",
    "                 -margin//2,\n",
    "                 w+margin//2,\n",
    "                 h+margin//2)\n",
    "    extract_img = image.crop(extract_area) # 일부러 마진 \n",
    "\n",
    "    image_name = Path(image_list[num]).stem\n",
    "\n",
    "    image.save(f\"/data/komedi/AFLW/{max_num}/cropimg_{max_num}/{image_name}.jpg\")\n",
    "    extract_img.save(f\"/data/komedi/AFLW/{max_num}/images_{max_num}/{image_name}.jpg\")\n",
    "\n",
    "    csv_list.append(f\"{image_name}.jpg\")\n",
    "    csv_list.append(f\"/data/komedi/AFLW/{max_num}/images_{max_num}/{image_name}.jpg\")\n",
    "    for n in (200,200,450,450):\n",
    "        csv_list.append(n)\n",
    "\n",
    "    label = loadmat(label_list[num])\n",
    "    \n",
    "    pose_para = label['Pose_Para']\n",
    "    pitch = pose_para[0][0] * 180 / math.pi\n",
    "    yaw = pose_para[0][1] * 180 / math.pi\n",
    "    roll = pose_para[0][2] * 180 / math.pi\n",
    "    \n",
    "    csv_list.append(pitch)\n",
    "    csv_list.append(yaw)\n",
    "    csv_list.append(roll)\n",
    "    \n",
    "    list_x =label['pt3d_68'][0,:]\n",
    "    list_y =label['pt3d_68'][1,:]\n",
    "\n",
    "    for i in range(len(list_x)):\n",
    "        csv_list.append((list_x[i],list_y[i]))\n",
    "\n",
    "    csv_lists.append(csv_list)\n",
    "\n",
    "    df = pd.DataFrame(csv_lists, index=None)\n",
    "    df.to_csv(f\"/data/komedi/AFLW/{max_num}/aflw_68pt_anno_{max_num}.csv\",header=None, index=None)\n",
    "\n",
    "    cnt+=1"
   ]
  },
  {
   "cell_type": "markdown",
   "metadata": {},
   "source": [
    "load 68pt annotation csv file"
   ]
  },
  {
   "cell_type": "code",
   "execution_count": null,
   "metadata": {},
   "outputs": [],
   "source": [
    "df_lists = pd.read_csv(f\"/data/komedi/AFLW/{max_num}/aflw_68pt_anno_{max_num}.csv\", header=None).values.tolist()\n",
    "\"\"\"\n",
    "idx 0: file name\n",
    "idx 1: file path\n",
    "idx 2 ~ 5: bbox(left, top, width, height)\n",
    "idx 6 ~ 8: pose para\n",
    "idx 9 ~ : landmark\n",
    "\"\"\"\n",
    "len(df_lists[0]) # 77 okay"
   ]
  },
  {
   "cell_type": "code",
   "execution_count": null,
   "metadata": {},
   "outputs": [],
   "source": [
    "df_lists[0]"
   ]
  },
  {
   "cell_type": "markdown",
   "metadata": {},
   "source": [
    "set sorted list"
   ]
  },
  {
   "cell_type": "code",
   "execution_count": null,
   "metadata": {},
   "outputs": [],
   "source": [
    "# 18 point sort\n",
    "\n",
    "IDX_LIST = {\n",
    "    \"1\":27, # soft_tissue_nasion        -1\n",
    "    \"2\":39, # right_inner_canthus     -2\n",
    "    \"3\":42, # left_inner_canthus      -2\n",
    "    \"4\":36, # right_outer_canthus     -3\n",
    "    \"5\":45, # left_outer_canthus      -3\n",
    "    \"6\":2, # right_zygomatic_width    -4\n",
    "    \"7\":14, # left_zygomatic_width    -4\n",
    "    \"8\":28, # mid_dorsum                -5\n",
    "    \"9\":30, # nasal_tip                 -6\n",
    "    \"10\":33, # subnasale                 -8\n",
    "    \"11\":51, # philtral_tubercle        -10\n",
    "    \"12\":48, # right_outer_commissure -11\n",
    "    \"13\":54, # left_outer_commissure  -11\n",
    "    \"14\":5, # right_gonial_width      -12\n",
    "    \"15\":11, # left_gonial_width      -12\n",
    "    \"16\":8, # mid_symphysis             -14\n",
    "    \"17\":62, # lib_junction             -17\n",
    "    \"19\":57\n",
    "}\n",
    "\n",
    "# 2 point to sort\n",
    "\n",
    "def calculatelandmark(point1, point2):\n",
    "    (x1,y1) = point1\n",
    "    (x2,y2) = point2\n",
    "    return int((x1+x2)//2), int((y1+y2)//2)"
   ]
  },
  {
   "cell_type": "code",
   "execution_count": null,
   "metadata": {},
   "outputs": [],
   "source": [
    "# sort 68pt to 20pt\n",
    "idx = 0\n",
    "landmarks_list = []\n",
    "for _, idx in enumerate(tqdm(range(len(df_lists)))):\n",
    "    # if idx>=1:\n",
    "    #     break\n",
    "    landmarks = []\n",
    "    cal = []\n",
    "\n",
    "    bbox = (int(df_lists[idx][2]),\n",
    "            int(df_lists[idx][3]),\n",
    "            int(df_lists[idx][4]),\n",
    "            int(df_lists[idx][5])\n",
    "    )\n",
    "\n",
    "    image = Image.open(df_lists[idx][1])\n",
    "    crop_image = image.crop(bbox)\n",
    "\n",
    "    # plt.figure(figsize=(22,22))\n",
    "    # plt.imshow(crop_image)\n",
    "\n",
    "    landmarks.append(df_lists[idx][0]) # append image name\n",
    "    landmarks.append(\"AFLW\")\n",
    "    landmarks.append(df_lists[idx][1]) # append image path\n",
    "\n",
    "    # bbox process\n",
    "    box = []\n",
    "    for i in range(len(bbox)):\n",
    "        landmarks.append(bbox[i])\n",
    "\n",
    "    landmarks.append(df_lists[idx][6]) # pitch\n",
    "    landmarks.append(df_lists[idx][7]) # yaw\n",
    "    landmarks.append(df_lists[idx][8]) # roll\n",
    "\n",
    "    for idx, landmark in enumerate(df_lists[idx][9:]):\n",
    "        if idx in list(IDX_LIST.values()):\n",
    "            x,y = eval(landmark[1:-1])\n",
    "            # plt.scatter(x, y)\n",
    "            # plt.annotate(idx, (x, y))\n",
    "            landmarks.append((int(x),int(y))) # append auto landmarks\n",
    "        if idx in (21,22,33,51):\n",
    "            x,y = eval(landmark[1:-1])\n",
    "            cal.append((x,y)) \n",
    "    landmarks.append(calculatelandmark(cal[0],cal[1])) # append calculate landmark\n",
    "    landmarks.append(calculatelandmark(cal[2],cal[3])) # append calculate landmark\n",
    "    # x_2, y_2 = calculatelandmark(cal[0],cal[1])\n",
    "    # plt.scatter(x_2, y_2)\n",
    "    # x_3,y_3 = calculatelandmark(cal[2],cal[3])\n",
    "    # plt.scatter(x_3, y_3)\n",
    "    landmarks_list.append(landmarks)\n",
    "len(landmarks_list[0]) # 30 okay"
   ]
  },
  {
   "cell_type": "code",
   "execution_count": null,
   "metadata": {},
   "outputs": [],
   "source": [
    "landmarks_list[0]"
   ]
  },
  {
   "cell_type": "markdown",
   "metadata": {},
   "source": [
    "assemble 20pt and 7pt"
   ]
  },
  {
   "cell_type": "markdown",
   "metadata": {},
   "source": [
    "manual part\n",
    "\n",
    "get cropimg and annotation labeling"
   ]
  },
  {
   "cell_type": "code",
   "execution_count": null,
   "metadata": {},
   "outputs": [],
   "source": [
    "manual_anno = pd.read_csv(f\"/data/komedi/AFLW/{max_num}/aflw_7pt_anno_{max_num}.csv\").values.tolist()\n",
    "sort_manual = []\n",
    "for manual in manual_anno:\n",
    "    if manual[3] == 7:\n",
    "        sort_manual.append(manual)\n",
    "len(sort_manual)/7"
   ]
  },
  {
   "cell_type": "code",
   "execution_count": null,
   "metadata": {},
   "outputs": [],
   "source": [
    "# assemble\n",
    "assemble_list = []\n",
    "for landmark in landmarks_list:\n",
    "    for manual in sort_manual:\n",
    "        if landmark[0]==manual[0]:\n",
    "            x,y = eval(manual[5])[\"cx\"], eval(manual[5])[\"cy\"]\n",
    "            landmark.append((x,y))\n",
    "    assemble_list.append(landmark) # 37 x number of images\n",
    "len(assemble_list[0]) # if 37, OK"
   ]
  },
  {
   "cell_type": "code",
   "execution_count": null,
   "metadata": {},
   "outputs": [],
   "source": [
    "len(assemble_list)"
   ]
  },
  {
   "cell_type": "markdown",
   "metadata": {},
   "source": [
    "sort not manual annotated file"
   ]
  },
  {
   "cell_type": "code",
   "execution_count": null,
   "metadata": {},
   "outputs": [],
   "source": [
    "# sort not manual annotate\n",
    "finale_list = []\n",
    "for assemble in assemble_list:\n",
    "    if len(assemble)==37:\n",
    "        finale_list.append(assemble)\n",
    "len(finale_list)"
   ]
  },
  {
   "cell_type": "markdown",
   "metadata": {},
   "source": [
    "save dataframe"
   ]
  },
  {
   "cell_type": "code",
   "execution_count": null,
   "metadata": {},
   "outputs": [],
   "source": [
    "# dataframe and save\n",
    "df = pd.DataFrame(finale_list)\n",
    "df.to_csv(f\"/data/komedi/dataset/_rawdata/AFLW/{max_num}/assemble_{max_num}.csv\",header=None, index=None)"
   ]
  },
  {
   "cell_type": "code",
   "execution_count": null,
   "metadata": {},
   "outputs": [],
   "source": [
    "\"\"\"\n",
    "idx 0: file name\n",
    "idx 1: file type(aflw)\n",
    "idx 2: file path\n",
    "idx 3 ~ 6: bbox(left, top, width, height)\n",
    "idx 7 ~ 9: pose para\n",
    "idx 10 ~ : landmark\n",
    "\"\"\""
   ]
  },
  {
   "cell_type": "code",
   "execution_count": null,
   "metadata": {},
   "outputs": [],
   "source": [
    "# check matching\n",
    "image = Image.open(finale_list[0][2])\n",
    "crop_image = image.crop((200-100,200-100,450+100,450+100))\n",
    "for idx, landmark in enumerate(finale_list[0][10:]):\n",
    "    x,y = landmark\n",
    "    plt.scatter(x,y)\n",
    "plt.imshow(crop_image)"
   ]
  },
  {
   "cell_type": "markdown",
   "metadata": {},
   "source": [
    "finalize check"
   ]
  },
  {
   "cell_type": "code",
   "execution_count": null,
   "metadata": {},
   "outputs": [],
   "source": [
    "max_num = 'all'"
   ]
  },
  {
   "cell_type": "code",
   "execution_count": null,
   "metadata": {},
   "outputs": [],
   "source": [
    "import pandas as pd\n",
    "from PIL import Image\n",
    "import matplotlib.pyplot as plt\n",
    "list_ = pd.read_csv(f\"/data/komedi/dataset/_rawdata/AFLW/ALL/assemble_{max_num}.csv\",header=None).values.tolist()"
   ]
  },
  {
   "cell_type": "code",
   "execution_count": null,
   "metadata": {},
   "outputs": [],
   "source": [
    "image = Image.open(list_[0][2])\n",
    "margin = 200\n",
    "image_crop = image.crop((list_[0][3]-margin//2,\n",
    "                         list_[0][4]-margin//2,\n",
    "                         list_[0][5]+margin//2,\n",
    "                         list_[0][6]+margin//2))\n",
    "for point in list_[0][10:]:\n",
    "    point = point[1:-1]\n",
    "    x,y = eval(point)\n",
    "    plt.scatter(x,y)\n",
    "plt.imshow(image_crop)"
   ]
  },
  {
   "cell_type": "code",
   "execution_count": null,
   "metadata": {},
   "outputs": [],
   "source": []
  }
 ],
 "metadata": {
  "kernelspec": {
   "display_name": "Python 3.10.5 ('FG-FLD')",
   "language": "python",
   "name": "python3"
  },
  "language_info": {
   "codemirror_mode": {
    "name": "ipython",
    "version": 3
   },
   "file_extension": ".py",
   "mimetype": "text/x-python",
   "name": "python",
   "nbconvert_exporter": "python",
   "pygments_lexer": "ipython3",
   "version": "3.10.5"
  },
  "orig_nbformat": 4,
  "vscode": {
   "interpreter": {
    "hash": "d032bec24de8f26ea2ce5b1fbd1f6fe164433d96c079f6cfdc316b720645a670"
   }
  }
 },
 "nbformat": 4,
 "nbformat_minor": 2
}
