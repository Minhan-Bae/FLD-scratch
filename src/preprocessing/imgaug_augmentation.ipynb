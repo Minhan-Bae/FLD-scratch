{
 "cells": [
  {
   "cell_type": "code",
   "execution_count": null,
   "metadata": {},
   "outputs": [],
   "source": [
    "from PIL import Image\n",
    "import pandas as pd\n",
    "import random\n",
    "\n",
    "import numpy as np\n",
    "\n",
    "import matplotlib.pyplot as plt\n"
   ]
  },
  {
   "cell_type": "code",
   "execution_count": null,
   "metadata": {},
   "outputs": [],
   "source": [
    "df = pd.read_csv(\"/home/ubuntu/workspace/FLD-scratch/src/data/kface_w300_alfw_train.csv\",header=None).values.tolist()"
   ]
  },
  {
   "cell_type": "code",
   "execution_count": null,
   "metadata": {},
   "outputs": [],
   "source": [
    "label_list = [\"(48.0, 531.0)\",\"(304.0, 829.0)\",\"(603.0, 884.0)\",\"(774.0, 669.0)\",\"(855.0, 434.0)\",\"(519.0, 303.0)\",\"(541.0, 386.0)\",\"(587.0, 549.0)\",\"(581.0, 604.0)\",\"(219.0, 345.0)\",\"(385.0, 333.0)\",\"(603.0, 290.0)\",\"(747.0, 237.0)\",\"(375.0, 685.0)\",\"(570.0, 662.0)\",\"(705.0, 603.0)\",\"(589.0, 748.0)\",\"(573.0, 677.0)\",\"(523.0, 208.0)\",\"(575.0, 633.0)\",\"(423, -133)\",\"(423, 567)\",\"(661, 513)\",\"(587, 773)\",\"(587, 842)\",\"(543, 842)\",\"(496, 825)\"]"
   ]
  },
  {
   "cell_type": "code",
   "execution_count": null,
   "metadata": {},
   "outputs": [],
   "source": [
    "image = Image.open(\"/data/komedi/300wdataset/500/images_500/10405146_1.jpg\")\n",
    "image =image.crop((225-100,567-100,996+(996-224)//2,1338+(1338-567)//2))"
   ]
  },
  {
   "cell_type": "code",
   "execution_count": null,
   "metadata": {},
   "outputs": [],
   "source": [
    "for label in label_list:\n",
    "    x,y = eval(label[1:-1])\n",
    "    plt.scatter(x,y)\n",
    "plt.imshow(image)\n",
    "    "
   ]
  }
 ],
 "metadata": {
  "kernelspec": {
   "display_name": "Python 3.10.5 ('FG-FLD')",
   "language": "python",
   "name": "python3"
  },
  "language_info": {
   "codemirror_mode": {
    "name": "ipython",
    "version": 3
   },
   "file_extension": ".py",
   "mimetype": "text/x-python",
   "name": "python",
   "nbconvert_exporter": "python",
   "pygments_lexer": "ipython3",
   "version": "3.10.5"
  },
  "orig_nbformat": 4,
  "vscode": {
   "interpreter": {
    "hash": "d032bec24de8f26ea2ce5b1fbd1f6fe164433d96c079f6cfdc316b720645a670"
   }
  }
 },
 "nbformat": 4,
 "nbformat_minor": 2
}
