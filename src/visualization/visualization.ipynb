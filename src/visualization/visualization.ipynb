{
 "cells": [
  {
   "cell_type": "code",
   "execution_count": null,
   "metadata": {},
   "outputs": [],
   "source": [
    "import random\n",
    "import warnings\n",
    "warnings.filterwarnings(\"ignore\")\n",
    "\n",
    "from vis_src.get_file import *\n",
    "from vis_src.predict import *"
   ]
  },
  {
   "cell_type": "code",
   "execution_count": null,
   "metadata": {},
   "outputs": [],
   "source": [
    "# kface sort 8000 images\n",
    "dir_path = \"/data/komedi/backup/dataset/sorted_image_8000\"\n",
    "out_path = \"/home/ubuntu/workspace/FLD-scratch/src/visualization/outputs\"\n",
    "\n",
    "pretrained_model = \"/data/komedi/logs/2022-07-15/swin_v15/v15_swin_base_patch4_window7_224_best.pt\"\n",
    "\n",
    "image_list = get_image_list(dir_path)\n",
    "random.shuffle(image_list)"
   ]
  },
  {
   "cell_type": "code",
   "execution_count": null,
   "metadata": {},
   "outputs": [],
   "source": [
    "# sort helen, star images\n",
    "type = \"star\"\n",
    "dir_path = f\"/data/komedi/tools/visualization/sample/{type}\"\n",
    "out_path = \"/home/ubuntu/workspace/FLD-scratch/src/visualization/outputs\"\n",
    "\n",
    "image_list = get_image_list(dir_path)"
   ]
  },
  {
   "cell_type": "code",
   "execution_count": null,
   "metadata": {},
   "outputs": [],
   "source": [
    "random.shuffle(image_list)\n",
    "for i in range(2):\n",
    "    run(image_list[i], pretrained= pretrained_model, save=os.path.join(out_path,f\"{i}.jpg\"))"
   ]
  },
  {
   "cell_type": "code",
   "execution_count": null,
   "metadata": {},
   "outputs": [],
   "source": []
  }
 ],
 "metadata": {
  "kernelspec": {
   "display_name": "Python 3.10.5 ('FG-FLD')",
   "language": "python",
   "name": "python3"
  },
  "language_info": {
   "codemirror_mode": {
    "name": "ipython",
    "version": 3
   },
   "file_extension": ".py",
   "mimetype": "text/x-python",
   "name": "python",
   "nbconvert_exporter": "python",
   "pygments_lexer": "ipython3",
   "version": "3.10.5"
  },
  "orig_nbformat": 4,
  "vscode": {
   "interpreter": {
    "hash": "d032bec24de8f26ea2ce5b1fbd1f6fe164433d96c079f6cfdc316b720645a670"
   }
  }
 },
 "nbformat": 4,
 "nbformat_minor": 2
}
