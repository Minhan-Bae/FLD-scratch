{
 "cells": [
  {
   "cell_type": "markdown",
   "metadata": {},
   "source": [
    "# **Inference**"
   ]
  },
  {
   "cell_type": "markdown",
   "metadata": {},
   "source": [
    "Import modules and packages"
   ]
  },
  {
   "cell_type": "code",
   "execution_count": 4,
   "metadata": {},
   "outputs": [],
   "source": [
    "import warnings\n",
    "warnings.filterwarnings(\"ignore\")\n",
    "\n",
    "import gc\n",
    "gc.collect()\n",
    "\n",
    "import cv2\n",
    "import time\n",
    "\n",
    "import matplotlib.pyplot as plt\n",
    "%matplotlib inline\n",
    "plt.rcParams[\"axes.grid\"]=False\n",
    "\n",
    "# Import pytorch modules\n",
    "import torch\n",
    "torch.cuda.empty_cache()\n",
    "\n",
    "# Import local modules\n",
    "from src import config as C\n",
    "from src.models import resnet50d, resnet, xception\n",
    "from src.utils.collate_fn import *\n",
    "from src.utils.print_overwrite import *\n",
    "from src.dataset import w300_dataset_1ch as W\n",
    "\n",
    "device = 'cpu'"
   ]
  },
  {
   "cell_type": "markdown",
   "metadata": {},
   "source": [
    "Dataset and Dataloader"
   ]
  },
  {
   "cell_type": "code",
   "execution_count": 5,
   "metadata": {},
   "outputs": [],
   "source": [
    "w_dataset = W.FaceLandmarksDataset(transform=W.Transforms(), type=\"valid\")\n",
    "w_dataloader = torch.utils.data.DataLoader(w_dataset, batch_size=16, shuffle=True, num_workers=4)"
   ]
  },
  {
   "cell_type": "markdown",
   "metadata": {},
   "source": [
    "Inference"
   ]
  },
  {
   "cell_type": "code",
   "execution_count": null,
   "metadata": {},
   "outputs": [],
   "source": [
    "# model = resnet50d.FaceSynthetics().cpu()\n",
    "# state_dict = torch.load('/home/ubuntu/workspace/FLD-scratch/result/face_landmarks.pth',map_location='cpu')\n",
    "import numpy as np\n",
    "model = resnet.resnet18().cpu()\n",
    "state_dict = torch.load('/home/ubuntu/workspace/FLD-scratch/result/face_landmarks_resnet.pth',map_location='cpu')\n",
    "\n",
    "model = xception.XceptionNet().cpu()\n",
    "state_dict = torch.load('/home/ubuntu/workspace/FLD-scratch/result/face_landmarks_xception.pth',map_location='cpu')\n",
    "\n",
    "\n",
    "model.load_state_dict(state_dict)\n",
    "model = model.to(device)\n",
    "\n",
    "start_time = time.time()\n",
    "\n",
    "with torch.no_grad():\n",
    "    \n",
    "    images, landmarks = next(iter(w_dataloader))\n",
    "    \n",
    "    images = images.to(device)\n",
    "    landmarks = (landmarks) * 128 #* torch.tensor((512,512))    \n",
    "    \n",
    "    predictions = model(images).cpu()\n",
    "    predictions = (predictions) * 128 # torch.tensor((512,512))  \n",
    "    predictions = predictions.view([-1,27,2])\n",
    "    print(predictions[0])\n",
    "    num_view = 4\n",
    "    \n",
    "    plt.figure(figsize=(10,num_view*10))\n",
    "    for img_num in range(num_view):\n",
    "        image = images[img_num].cpu().numpy().transpose(1,2,0).squeeze()\n",
    "        # image = cv2.cvtColor(image,cv2.COLOR_BGR2GRAY)\n",
    "        plt.subplot(num_view,1,img_num+1)\n",
    "        plt.imshow(image, cmap='gray')\n",
    "        plt.scatter(predictions[img_num][:,0], predictions[img_num][:,1], c = 'r', s = 5)\n",
    "        plt.scatter(landmarks[img_num].T[0], landmarks[img_num].T[1], c = 'g', s = 5)\n",
    "\n",
    "print('Total number of test images: {}'.format(len(w_dataloader)))\n",
    "\n",
    "end_time = time.time()\n",
    "print(\"Elapsed Time : {}\".format(end_time - start_time)) "
   ]
  },
  {
   "cell_type": "code",
   "execution_count": null,
   "metadata": {},
   "outputs": [],
   "source": []
  }
 ],
 "metadata": {
  "kernelspec": {
   "display_name": "Python 3.9.0 ('FG-GLD')",
   "language": "python",
   "name": "python3"
  },
  "language_info": {
   "codemirror_mode": {
    "name": "ipython",
    "version": 3
   },
   "file_extension": ".py",
   "mimetype": "text/x-python",
   "name": "python",
   "nbconvert_exporter": "python",
   "pygments_lexer": "ipython3",
   "version": "3.9.0"
  },
  "orig_nbformat": 4,
  "vscode": {
   "interpreter": {
    "hash": "9550210be859de316fbaaac654d2fc4c7fb8b5570e54a571b0ab8123deb4b39d"
   }
  }
 },
 "nbformat": 4,
 "nbformat_minor": 2
}
